{
  "cells": [
    {
      "cell_type": "markdown",
      "metadata": {
        "id": "gX446B47ZmnN"
      },
      "source": [
        "# Planning Agents with LangGraph and Together AI\n",
        "\n",
        "[![Open In Colab](https://colab.research.google.com/assets/colab-badge.svg)](https://colab.research.google.com/github/togethercomputer/together-cookbook/blob/main/Agents/LangGraph/LangGraph_Planning_Agent.ipynb)\n",
        "\n",
        "<img src=\"https://github.com/togethercomputer/together-cookbook/blob/main/images/langgraph.png?raw=1\" width=\"700\">"
      ]
    },
    {
      "cell_type": "markdown",
      "metadata": {
        "id": "bsRreVySZmnP"
      },
      "source": [
        "This notebook demonstrates how to create an intelligent planning agent that can:\n",
        "1. Break down complex queries into smaller, manageable steps\n",
        "2. Execute each step sequentially\n",
        "3. Adapt its plan based on new information\n",
        "4. Provide coherent final answers"
      ]
    },
    {
      "cell_type": "markdown",
      "metadata": {
        "id": "elGQEceKZmnP"
      },
      "source": [
        "## Setup and Imports"
      ]
    },
    {
      "cell_type": "code",
      "execution_count": 4,
      "metadata": {
        "id": "uWu0IDn-ZmnP",
        "outputId": "b24d7cd0-cdbe-4b75-c397-2cadd107b64a",
        "colab": {
          "base_uri": "https://localhost:8080/"
        }
      },
      "outputs": [
        {
          "output_type": "stream",
          "name": "stdout",
          "text": [
            "\u001b[?25l   \u001b[90m━━━━━━━━━━━━━━━━━━━━━━━━━━━━━━━━━━━━━━━━\u001b[0m \u001b[32m0.0/3.3 MB\u001b[0m \u001b[31m?\u001b[0m eta \u001b[36m-:--:--\u001b[0m\r\u001b[2K   \u001b[91m━━━━\u001b[0m\u001b[90m╺\u001b[0m\u001b[90m━━━━━━━━━━━━━━━━━━━━━━━━━━━━━━━━━━━\u001b[0m \u001b[32m0.4/3.3 MB\u001b[0m \u001b[31m10.8 MB/s\u001b[0m eta \u001b[36m0:00:01\u001b[0m\r\u001b[2K   \u001b[91m━━━━━━━━━━━━━━━━━━━━━━━━━━━━━━━━━━━━━━━\u001b[0m\u001b[91m╸\u001b[0m \u001b[32m3.3/3.3 MB\u001b[0m \u001b[31m48.2 MB/s\u001b[0m eta \u001b[36m0:00:01\u001b[0m\r\u001b[2K   \u001b[90m━━━━━━━━━━━━━━━━━━━━━━━━━━━━━━━━━━━━━━━━\u001b[0m \u001b[32m3.3/3.3 MB\u001b[0m \u001b[31m36.5 MB/s\u001b[0m eta \u001b[36m0:00:00\u001b[0m\n",
            "\u001b[?25h"
          ]
        }
      ],
      "source": [
        "# Install required packages\n",
        "!pip install -qU duckduckgo-search langchain-together langchain-community tavily-python langgraph"
      ]
    },
    {
      "cell_type": "code",
      "source": [
        "! pip install together"
      ],
      "metadata": {
        "id": "xOpcD52_mUbd",
        "outputId": "8c99e70b-bfbd-414f-f11d-e5295218542b",
        "colab": {
          "base_uri": "https://localhost:8080/"
        }
      },
      "execution_count": 46,
      "outputs": [
        {
          "output_type": "stream",
          "name": "stdout",
          "text": [
            "Collecting together\n",
            "  Downloading together-1.5.5-py3-none-any.whl.metadata (14 kB)\n",
            "Requirement already satisfied: aiohttp<4.0.0,>=3.9.3 in /usr/local/lib/python3.11/dist-packages (from together) (3.11.15)\n",
            "Requirement already satisfied: click<9.0.0,>=8.1.7 in /usr/local/lib/python3.11/dist-packages (from together) (8.1.8)\n",
            "Collecting eval-type-backport<0.3.0,>=0.1.3 (from together)\n",
            "  Downloading eval_type_backport-0.2.2-py3-none-any.whl.metadata (2.2 kB)\n",
            "Requirement already satisfied: filelock<4.0.0,>=3.13.1 in /usr/local/lib/python3.11/dist-packages (from together) (3.18.0)\n",
            "Requirement already satisfied: numpy>=1.23.5 in /usr/local/lib/python3.11/dist-packages (from together) (2.0.2)\n",
            "Requirement already satisfied: pillow<12.0.0,>=11.1.0 in /usr/local/lib/python3.11/dist-packages (from together) (11.1.0)\n",
            "Requirement already satisfied: pyarrow>=10.0.1 in /usr/local/lib/python3.11/dist-packages (from together) (18.1.0)\n",
            "Requirement already satisfied: pydantic<3.0.0,>=2.6.3 in /usr/local/lib/python3.11/dist-packages (from together) (2.11.3)\n",
            "Requirement already satisfied: requests<3.0.0,>=2.31.0 in /usr/local/lib/python3.11/dist-packages (from together) (2.32.3)\n",
            "Requirement already satisfied: rich<14.0.0,>=13.8.1 in /usr/local/lib/python3.11/dist-packages (from together) (13.9.4)\n",
            "Requirement already satisfied: tabulate<0.10.0,>=0.9.0 in /usr/local/lib/python3.11/dist-packages (from together) (0.9.0)\n",
            "Requirement already satisfied: tqdm<5.0.0,>=4.66.2 in /usr/local/lib/python3.11/dist-packages (from together) (4.67.1)\n",
            "Requirement already satisfied: typer<0.16,>=0.9 in /usr/local/lib/python3.11/dist-packages (from together) (0.15.2)\n",
            "Requirement already satisfied: aiohappyeyeballs>=2.3.0 in /usr/local/lib/python3.11/dist-packages (from aiohttp<4.0.0,>=3.9.3->together) (2.6.1)\n",
            "Requirement already satisfied: aiosignal>=1.1.2 in /usr/local/lib/python3.11/dist-packages (from aiohttp<4.0.0,>=3.9.3->together) (1.3.2)\n",
            "Requirement already satisfied: attrs>=17.3.0 in /usr/local/lib/python3.11/dist-packages (from aiohttp<4.0.0,>=3.9.3->together) (25.3.0)\n",
            "Requirement already satisfied: frozenlist>=1.1.1 in /usr/local/lib/python3.11/dist-packages (from aiohttp<4.0.0,>=3.9.3->together) (1.6.0)\n",
            "Requirement already satisfied: multidict<7.0,>=4.5 in /usr/local/lib/python3.11/dist-packages (from aiohttp<4.0.0,>=3.9.3->together) (6.4.3)\n",
            "Requirement already satisfied: propcache>=0.2.0 in /usr/local/lib/python3.11/dist-packages (from aiohttp<4.0.0,>=3.9.3->together) (0.3.1)\n",
            "Requirement already satisfied: yarl<2.0,>=1.17.0 in /usr/local/lib/python3.11/dist-packages (from aiohttp<4.0.0,>=3.9.3->together) (1.20.0)\n",
            "Requirement already satisfied: annotated-types>=0.6.0 in /usr/local/lib/python3.11/dist-packages (from pydantic<3.0.0,>=2.6.3->together) (0.7.0)\n",
            "Requirement already satisfied: pydantic-core==2.33.1 in /usr/local/lib/python3.11/dist-packages (from pydantic<3.0.0,>=2.6.3->together) (2.33.1)\n",
            "Requirement already satisfied: typing-extensions>=4.12.2 in /usr/local/lib/python3.11/dist-packages (from pydantic<3.0.0,>=2.6.3->together) (4.13.2)\n",
            "Requirement already satisfied: typing-inspection>=0.4.0 in /usr/local/lib/python3.11/dist-packages (from pydantic<3.0.0,>=2.6.3->together) (0.4.0)\n",
            "Requirement already satisfied: charset-normalizer<4,>=2 in /usr/local/lib/python3.11/dist-packages (from requests<3.0.0,>=2.31.0->together) (3.4.1)\n",
            "Requirement already satisfied: idna<4,>=2.5 in /usr/local/lib/python3.11/dist-packages (from requests<3.0.0,>=2.31.0->together) (3.10)\n",
            "Requirement already satisfied: urllib3<3,>=1.21.1 in /usr/local/lib/python3.11/dist-packages (from requests<3.0.0,>=2.31.0->together) (2.3.0)\n",
            "Requirement already satisfied: certifi>=2017.4.17 in /usr/local/lib/python3.11/dist-packages (from requests<3.0.0,>=2.31.0->together) (2025.1.31)\n",
            "Requirement already satisfied: markdown-it-py>=2.2.0 in /usr/local/lib/python3.11/dist-packages (from rich<14.0.0,>=13.8.1->together) (3.0.0)\n",
            "Requirement already satisfied: pygments<3.0.0,>=2.13.0 in /usr/local/lib/python3.11/dist-packages (from rich<14.0.0,>=13.8.1->together) (2.18.0)\n",
            "Requirement already satisfied: shellingham>=1.3.0 in /usr/local/lib/python3.11/dist-packages (from typer<0.16,>=0.9->together) (1.5.4)\n",
            "Requirement already satisfied: mdurl~=0.1 in /usr/local/lib/python3.11/dist-packages (from markdown-it-py>=2.2.0->rich<14.0.0,>=13.8.1->together) (0.1.2)\n",
            "Downloading together-1.5.5-py3-none-any.whl (87 kB)\n",
            "\u001b[2K   \u001b[90m━━━━━━━━━━━━━━━━━━━━━━━━━━━━━━━━━━━━━━━━\u001b[0m \u001b[32m87.9/87.9 kB\u001b[0m \u001b[31m2.6 MB/s\u001b[0m eta \u001b[36m0:00:00\u001b[0m\n",
            "\u001b[?25hDownloading eval_type_backport-0.2.2-py3-none-any.whl (5.8 kB)\n",
            "Installing collected packages: eval-type-backport, together\n",
            "Successfully installed eval-type-backport-0.2.2 together-1.5.5\n"
          ]
        }
      ]
    },
    {
      "cell_type": "markdown",
      "metadata": {
        "id": "22_HQj5QZmnQ"
      },
      "source": [
        "We initialize the LLM using Together AI's Llama model. This will be our core reasoning engine"
      ]
    },
    {
      "cell_type": "code",
      "execution_count": 67,
      "metadata": {
        "id": "dICqMSmEZmnQ",
        "outputId": "63976d73-c868-4d5c-dedb-f299050b281f",
        "colab": {
          "base_uri": "https://localhost:8080/"
        }
      },
      "outputs": [
        {
          "output_type": "execute_result",
          "data": {
            "text/plain": [
              "(1997,\n",
              " \"snippet: Lee Kuan Yew (born September 16, 1923, Singapore—died March 23, 2015, Singapore) was a politician and lawyer who was prime minister of Singapore from 1959 to 1990. Widely regarded as the founding father of modern Singapore, Lee transformed the city-state from a small, resource-deficient British colony with high rates of illiteracy into the most prosperous country in Southeast Asia., title: Lee Kuan Yew | Biography, Education, Achievements, & Facts - Britannica, link: https://www.britannica.com/biography/Lee-Kuan-Yew, snippet: A Short Biography of Lee Kuan Yew. Lee Kuan Yew was born on September 16, 1923, as the eldest child of Lee Chin Koon. He studied in the top Singapore schools and went to the London School of Economics briefly for his university education before moving to Cambridge, where he obtained his Law degree., title: Lee Kuan Yew: How His Leadership Transformed Singapore, link: https://www.businessandleadership.com/leadership/item/lee-kuan-yew-leadership-transformed-singapore/, snippet: SINGAPORE - On the 10th anniversary of Mr Lee Kuan Yew's death, Prime Minister Lawrence Wong called on Singaporeans to honour the legacy of Singapore's founding father through their actions., title: Honour Lee Kuan Yew's legacy not just in ... - The Straits Times, link: https://www.straitstimes.com/singapore/honour-lee-kuan-yews-legacy-not-just-in-remembrance-but-in-action-pm-wong, snippet: Lee Kuan Yew entered politics in 1955 as a legislator for the Tanjong Pagar Single Member Constituency (SMC), a seat he would hold for 56 years until its absorption into Tanjong Pagar GRC in 1991. His early career was defined by anti-colonial activism and the formation of the People's Action Party (PAP) in 1954, which sought to dismantle ..., title: The Late Mr Lee Kuan Yew's Life and Death While in Elected Office: A ..., link: https://batamnewsasia.com/2025/02/25/the-late-mr-lee-kuan-yews-life-and-death-while-in-elected-office-a-much-discussed-and-enduring-political-legacy/\")"
            ]
          },
          "metadata": {},
          "execution_count": 67
        }
      ],
      "source": [
        "# Setting up the Language Model\n",
        "\n",
        "\n",
        "from langchain_community.tools import DuckDuckGoSearchRun, DuckDuckGoSearchResults\n",
        "from langchain_community.utilities import DuckDuckGoSearchAPIWrapper\n",
        "\n",
        "search = DuckDuckGoSearchResults()\n",
        "\n",
        "#result = search.invoke(\"what is grab's highest stock price in april 2025?\", max_result=2)\n",
        "#len(result), result\n",
        "\n",
        "\n",
        "search = DuckDuckGoSearchResults(api_wrapper=DuckDuckGoSearchAPIWrapper(max_results=7))\n",
        "result = search.invoke(\"what is grab's stock price\")\n",
        "len(result), result"
      ]
    },
    {
      "cell_type": "code",
      "source": [
        "# Setting up the search tool\n",
        "from langchain_community.tools import DuckDuckGoSearchResults\n",
        "from langchain_community.utilities import DuckDuckGoSearchAPIWrapper\n",
        "\n",
        "# Create the search tool with more results\n",
        "search = DuckDuckGoSearchResults(api_wrapper=DuckDuckGoSearchAPIWrapper(max_results=7))\n",
        "search_results = search.invoke(\"what is grab's stock price\")\n",
        "\n",
        "# Format the search results as context\n",
        "context = \"Here's some information about Grab's stock price:\\n\" + '\\n'.join([str(item) for item in search_results])\n",
        "\n",
        "# Use Together API with the chat completions interface\n",
        "from together import Together\n",
        "\n",
        "client = Together(api_key=\"f43aa597975ad007ba3d1058ec3287743e7982ceab574de53f65adf5b613b900\")  # Replace with your actual API key\n",
        "\n",
        "response = client.chat.completions.create(\n",
        "    model=\"meta-llama/Llama-Vision-Free\",\n",
        "    messages=[\n",
        "        {\n",
        "            \"role\": \"system\",\n",
        "            \"content\": \"You are a helpful assistant. Use the provided information to answer questions.\"\n",
        "        },\n",
        "        {\n",
        "            \"role\": \"user\",\n",
        "            \"content\": f\"{context}\\n\\nBased on this information, what is Grab's current stock price?\"\n",
        "        }\n",
        "    ],\n",
        ")\n",
        "\n",
        "print(response.choices[0].message.content)"
      ],
      "metadata": {
        "id": "C9lA-Rs8pQYY",
        "outputId": "281e38a7-65ed-4f82-a5ac-0e7746d7b171",
        "colab": {
          "base_uri": "https://localhost:8080/"
        }
      },
      "execution_count": 72,
      "outputs": [
        {
          "output_type": "stream",
          "name": "stdout",
          "text": [
            "According to the text, Grab's current stock price is:\n",
            "\n",
            "* $2.91 (52-week low)\n",
            "* $4.68 (current price)\n",
            "* $4.72 (current price at the beginning of the year)\n",
            "* $4.07 (current price after a 13.8% decrease)\n",
            "\n",
            "So, the current stock price of Grab is $4.07.\n"
          ]
        }
      ]
    },
    {
      "cell_type": "code",
      "source": [
        "%time\n",
        "\n",
        "from together import Together\n",
        "\n",
        "client = Together(api_key=\"f43aa597975ad007ba3d1058ec3287743e7982ceab574de53f65adf5b613b900\")\n",
        "\n",
        "response = client.chat.completions.create(\n",
        "    model=\"meta-llama/Llama-Vision-Free\",\n",
        "    messages=[\n",
        "      {\n",
        "        \"role\": \"user\",\n",
        "        \"content\": \"who is lee kwan yew\"\n",
        "      },\n",
        "      {\n",
        "        \"role\": \"system\",\n",
        "        \"prompt\": result\n",
        "      }\n",
        "    ],\n",
        ")\n",
        "\n",
        "response.choices[0].message.content"
      ],
      "metadata": {
        "id": "wJpTkOh9l3XZ",
        "outputId": "84b7389a-e2e0-4b83-c929-ce6f76baf659",
        "colab": {
          "base_uri": "https://localhost:8080/",
          "height": 704
        }
      },
      "execution_count": 70,
      "outputs": [
        {
          "output_type": "stream",
          "name": "stdout",
          "text": [
            "CPU times: user 5 µs, sys: 1e+03 ns, total: 6 µs\n",
            "Wall time: 9.54 µs\n"
          ]
        },
        {
          "output_type": "error",
          "ename": "InvalidRequestError",
          "evalue": "Error code: 400 - {\"message\": \"[{'type': 'missing', 'loc': ('body', 'messages', 1, 'typed-dict', 'content'), 'msg': 'Field required', 'input': {'role': 'system', 'prompt': \\\"snippet: Lee Kuan Yew (born September 16, 1923, Singapore\\u2014died March 23, 2015, Singapore) was a politician and lawyer who was prime minister of Singapore from 1959 to 1990. Widely regarded as the founding father of modern Singapore, Lee transformed the city-state from a small, resource-deficient British colony with high rates of illiteracy into the most prosperous country in Southeast Asia., title: Lee Kuan Yew | Biography, Education, Achievements, & Facts - Britannica, link: https://www.britannica.com/biography/Lee-Kuan-Yew, snippet: A Short Biography of Lee Kuan Yew. Lee Kuan Yew was born on September 16, 1923, as the eldest child of Lee Chin Koon. He studied in the top Singapore schools and went to the London School of Economics briefly for his university education before moving to Cambridge, where he obtained his Law degree., title: Lee Kuan Yew: How His Leadership Transformed Singapore, link: https://www.businessandleadership.com/leadership/item/lee-kuan-yew-leadership-transformed-singapore/, snippet: SINGAPORE - On the 10th anniversary of Mr Lee Kuan Yew's death, Prime Minister Lawrence Wong called on Singaporeans to honour the legacy of Singapore's founding father through their actions., title: Honour Lee Kuan Yew's legacy not just in ... - The Straits Times, link: https://www.straitstimes.com/singapore/honour-lee-kuan-yews-legacy-not-just-in-remembrance-but-in-action-pm-wong, snippet: Lee Kuan Yew entered politics in 1955 as a legislator for the Tanjong Pagar Single Member Constituency (SMC), a seat he would hold for 56 years until its absorption into Tanjong Pagar GRC in 1991. His early career was defined by anti-colonial activism and the formation of the People's Action Party (PAP) in 1954, which sought to dismantle ..., title: The Late Mr Lee Kuan Yew's Life and Death While in Elected Office: A ..., link: https://batamnewsasia.com/2025/02/25/the-late-mr-lee-kuan-yews-life-and-death-while-in-elected-office-a-much-discussed-and-enduring-political-legacy/\\\"}}, {'type': 'extra_forbidden', 'loc': ('body', 'messages', 1, 'typed-dict', 'prompt'), 'msg': 'Extra inputs are not permitted', 'input': \\\"snippet: Lee Kuan Yew (born September 16, 1923, Singapore\\u2014died March 23, 2015, Singapore) was a politician and lawyer who was prime minister of Singapore from 1959 to 1990. Widely regarded as the founding father of modern Singapore, Lee transformed the city-state from a small, resource-deficient British colony with high rates of illiteracy into the most prosperous country in Southeast Asia., title: Lee Kuan Yew | Biography, Education, Achievements, & Facts - Britannica, link: https://www.britannica.com/biography/Lee-Kuan-Yew, snippet: A Short Biography of Lee Kuan Yew. Lee Kuan Yew was born on September 16, 1923, as the eldest child of Lee Chin Koon. He studied in the top Singapore schools and went to the London School of Economics briefly for his university education before moving to Cambridge, where he obtained his Law degree., title: Lee Kuan Yew: How His Leadership Transformed Singapore, link: https://www.businessandleadership.com/leadership/item/lee-kuan-yew-leadership-transformed-singapore/, snippet: SINGAPORE - On the 10th anniversary of Mr Lee Kuan Yew's death, Prime Minister Lawrence Wong called on Singaporeans to honour the legacy of Singapore's founding father through their actions., title: Honour Lee Kuan Yew's legacy not just in ... - The Straits Times, link: https://www.straitstimes.com/singapore/honour-lee-kuan-yews-legacy-not-just-in-remembrance-but-in-action-pm-wong, snippet: Lee Kuan Yew entered politics in 1955 as a legislator for the Tanjong Pagar Single Member Constituency (SMC), a seat he would hold for 56 years until its absorption into Tanjong Pagar GRC in 1991. His early career was defined by anti-colonial activism and the formation of the People's Action Party (PAP) in 1954, which sought to dismantle ..., title: The Late Mr Lee Kuan Yew's Life and Death While in Elected Office: A ..., link: https://batamnewsasia.com/2025/02/25/the-late-mr-lee-kuan-yews-life-and-death-while-in-elected-office-a-much-discussed-and-enduring-political-legacy/\\\"}, {'type': 'missing', 'loc': ('body', 'messages', 1, 'typed-dict', 'content'), 'msg': 'Field required', 'input': {'role': 'system', 'prompt': \\\"snippet: Lee Kuan Yew (born September 16, 1923, Singapore\\u2014died March 23, 2015, Singapore) was a politician and lawyer who was prime minister of Singapore from 1959 to 1990. Widely regarded as the founding father of modern Singapore, Lee transformed the city-state from a small, resource-deficient British colony with high rates of illiteracy into the most prosperous country in Southeast Asia., title: Lee Kuan Yew | Biography, Education, Achievements, & Facts - Britannica, link: https://www.britannica.com/biography/Lee-Kuan-Yew, snippet: A Short Biography of Lee Kuan Yew. Lee Kuan Yew was born on September 16, 1923, as the eldest child of Lee Chin Koon. He studied in the top Singapore schools and went to the London School of Economics briefly for his university education before moving to Cambridge, where he obtained his Law degree., title: Lee Kuan Yew: How His Leadership Transformed Singapore, link: https://www.businessandleadership.com/leadership/item/lee-kuan-yew-leadership-transformed-singapore/, snippet: SINGAPORE - On the 10th anniversary of Mr Lee Kuan Yew's death, Prime Minister Lawrence Wong called on Singaporeans to honour the legacy of Singapore's founding father through their actions., title: Honour Lee Kuan Yew's legacy not just in ... - The Straits Times, link: https://www.straitstimes.com/singapore/honour-lee-kuan-yews-legacy-not-just-in-remembrance-but-in-action-pm-wong, snippet: Lee Kuan Yew entered politics in 1955 as a legislator for the Tanjong Pagar Single Member Constituency (SMC), a seat he would hold for 56 years until its absorption into Tanjong Pagar GRC in 1991. His early career was defined by anti-colonial activism and the formation of the People's Action Party (PAP) in 1954, which sought to dismantle ..., title: The Late Mr Lee Kuan Yew's Life and Death While in Elected Office: A ..., link: https://batamnewsasia.com/2025/02/25/the-late-mr-lee-kuan-yews-life-and-death-while-in-elected-office-a-much-discussed-and-enduring-political-legacy/\\\"}}, {'type': 'literal_error', 'loc': ('body', 'messages', 1, 'typed-dict', 'role'), 'msg': \\\"Input should be 'user'\\\", 'input': 'system', 'ctx': {'expected': \\\"'user'\\\"}}, {'type': 'extra_forbidden', 'loc': ('body', 'messages', 1, 'typed-dict', 'prompt'), 'msg': 'Extra inputs are not permitted', 'input': \\\"snippet: Lee Kuan Yew (born September 16, 1923, Singapore\\u2014died March 23, 2015, Singapore) was a politician and lawyer who was prime minister of Singapore from 1959 to 1990. Widely regarded as the founding father of modern Singapore, Lee transformed the city-state from a small, resource-deficient British colony with high rates of illiteracy into the most prosperous country in Southeast Asia., title: Lee Kuan Yew | Biography, Education, Achievements, & Facts - Britannica, link: https://www.britannica.com/biography/Lee-Kuan-Yew, snippet: A Short Biography of Lee Kuan Yew. Lee Kuan Yew was born on September 16, 1923, as the eldest child of Lee Chin Koon. He studied in the top Singapore schools and went to the London School of Economics briefly for his university education before moving to Cambridge, where he obtained his Law degree., title: Lee Kuan Yew: How His Leadership Transformed Singapore, link: https://www.businessandleadership.com/leadership/item/lee-kuan-yew-leadership-transformed-singapore/, snippet: SINGAPORE - On the 10th anniversary of Mr Lee Kuan Yew's death, Prime Minister Lawrence Wong called on Singaporeans to honour the legacy of Singapore's founding father through their actions., title: Honour Lee Kuan Yew's legacy not just in ... - The Straits Times, link: https://www.straitstimes.com/singapore/honour-lee-kuan-yews-legacy-not-just-in-remembrance-but-in-action-pm-wong, snippet: Lee Kuan Yew entered politics in 1955 as a legislator for the Tanjong Pagar Single Member Constituency (SMC), a seat he would hold for 56 years until its absorption into Tanjong Pagar GRC in 1991. His early career was defined by anti-colonial activism and the formation of the People's Action Party (PAP) in 1954, which sought to dismantle ..., title: The Late Mr Lee Kuan Yew's Life and Death While in Elected Office: A ..., link: https://batamnewsasia.com/2025/02/25/the-late-mr-lee-kuan-yews-life-and-death-while-in-elected-office-a-much-discussed-and-enduring-political-legacy/\\\"}, {'type': 'literal_error', 'loc': ('body', 'messages', 1, 'typed-dict', 'role'), 'msg': \\\"Input should be 'assistant'\\\", 'input': 'system', 'ctx': {'expected': \\\"'assistant'\\\"}}, {'type': 'extra_forbidden', 'loc': ('body', 'messages', 1, 'typed-dict', 'prompt'), 'msg': 'Extra inputs are not permitted', 'input': \\\"snippet: Lee Kuan Yew (born September 16, 1923, Singapore\\u2014died March 23, 2015, Singapore) was a politician and lawyer who was prime minister of Singapore from 1959 to 1990. Widely regarded as the founding father of modern Singapore, Lee transformed the city-state from a small, resource-deficient British colony with high rates of illiteracy into the most prosperous country in Southeast Asia., title: Lee Kuan Yew | Biography, Education, Achievements, & Facts - Britannica, link: https://www.britannica.com/biography/Lee-Kuan-Yew, snippet: A Short Biography of Lee Kuan Yew. Lee Kuan Yew was born on September 16, 1923, as the eldest child of Lee Chin Koon. He studied in the top Singapore schools and went to the London School of Economics briefly for his university education before moving to Cambridge, where he obtained his Law degree., title: Lee Kuan Yew: How His Leadership Transformed Singapore, link: https://www.businessandleadership.com/leadership/item/lee-kuan-yew-leadership-transformed-singapore/, snippet: SINGAPORE - On the 10th anniversary of Mr Lee Kuan Yew's death, Prime Minister Lawrence Wong called on Singaporeans to honour the legacy of Singapore's founding father through their actions., title: Honour Lee Kuan Yew's legacy not just in ... - The Straits Times, link: https://www.straitstimes.com/singapore/honour-lee-kuan-yews-legacy-not-just-in-remembrance-but-in-action-pm-wong, snippet: Lee Kuan Yew entered politics in 1955 as a legislator for the Tanjong Pagar Single Member Constituency (SMC), a seat he would hold for 56 years until its absorption into Tanjong Pagar GRC in 1991. His early career was defined by anti-colonial activism and the formation of the People's Action Party (PAP) in 1954, which sought to dismantle ..., title: The Late Mr Lee Kuan Yew's Life and Death While in Elected Office: A ..., link: https://batamnewsasia.com/2025/02/25/the-late-mr-lee-kuan-yews-life-and-death-while-in-elected-office-a-much-discussed-and-enduring-political-legacy/\\\"}, {'type': 'missing', 'loc': ('body', 'messages', 1, 'typed-dict', 'content'), 'msg': 'Field required', 'input': {'role': 'system', 'prompt': \\\"snippet: Lee Kuan Yew (born September 16, 1923, Singapore\\u2014died March 23, 2015, Singapore) was a politician and lawyer who was prime minister of Singapore from 1959 to 1990. Widely regarded as the founding father of modern Singapore, Lee transformed the city-state from a small, resource-deficient British colony with high rates of illiteracy into the most prosperous country in Southeast Asia., title: Lee Kuan Yew | Biography, Education, Achievements, & Facts - Britannica, link: https://www.britannica.com/biography/Lee-Kuan-Yew, snippet: A Short Biography of Lee Kuan Yew. Lee Kuan Yew was born on September 16, 1923, as the eldest child of Lee Chin Koon. He studied in the top Singapore schools and went to the London School of Economics briefly for his university education before moving to Cambridge, where he obtained his Law degree., title: Lee Kuan Yew: How His Leadership Transformed Singapore, link: https://www.businessandleadership.com/leadership/item/lee-kuan-yew-leadership-transformed-singapore/, snippet: SINGAPORE - On the 10th anniversary of Mr Lee Kuan Yew's death, Prime Minister Lawrence Wong called on Singaporeans to honour the legacy of Singapore's founding father through their actions., title: Honour Lee Kuan Yew's legacy not just in ... - The Straits Times, link: https://www.straitstimes.com/singapore/honour-lee-kuan-yews-legacy-not-just-in-remembrance-but-in-action-pm-wong, snippet: Lee Kuan Yew entered politics in 1955 as a legislator for the Tanjong Pagar Single Member Constituency (SMC), a seat he would hold for 56 years until its absorption into Tanjong Pagar GRC in 1991. His early career was defined by anti-colonial activism and the formation of the People's Action Party (PAP) in 1954, which sought to dismantle ..., title: The Late Mr Lee Kuan Yew's Life and Death While in Elected Office: A ..., link: https://batamnewsasia.com/2025/02/25/the-late-mr-lee-kuan-yews-life-and-death-while-in-elected-office-a-much-discussed-and-enduring-political-legacy/\\\"}}, {'type': 'literal_error', 'loc': ('body', 'messages', 1, 'typed-dict', 'role'), 'msg': \\\"Input should be 'tool'\\\", 'input': 'system', 'ctx': {'expected': \\\"'tool'\\\"}}, {'type': 'missing', 'loc': ('body', 'messages', 1, 'typed-dict', 'tool_call_id'), 'msg': 'Field required', 'input': {'role': 'system', 'prompt': \\\"snippet: Lee Kuan Yew (born September 16, 1923, Singapore\\u2014died March 23, 2015, Singapore) was a politician and lawyer who was prime minister of Singapore from 1959 to 1990. Widely regarded as the founding father of modern Singapore, Lee transformed the city-state from a small, resource-deficient British colony with high rates of illiteracy into the most prosperous country in Southeast Asia., title: Lee Kuan Yew | Biography, Education, Achievements, & Facts - Britannica, link: https://www.britannica.com/biography/Lee-Kuan-Yew, snippet: A Short Biography of Lee Kuan Yew. Lee Kuan Yew was born on September 16, 1923, as the eldest child of Lee Chin Koon. He studied in the top Singapore schools and went to the London School of Economics briefly for his university education before moving to Cambridge, where he obtained his Law degree., title: Lee Kuan Yew: How His Leadership Transformed Singapore, link: https://www.businessandleadership.com/leadership/item/lee-kuan-yew-leadership-transformed-singapore/, snippet: SINGAPORE - On the 10th anniversary of Mr Lee Kuan Yew's death, Prime Minister Lawrence Wong called on Singaporeans to honour the legacy of Singapore's founding father through their actions., title: Honour Lee Kuan Yew's legacy not just in ... - The Straits Times, link: https://www.straitstimes.com/singapore/honour-lee-kuan-yews-legacy-not-just-in-remembrance-but-in-action-pm-wong, snippet: Lee Kuan Yew entered politics in 1955 as a legislator for the Tanjong Pagar Single Member Constituency (SMC), a seat he would hold for 56 years until its absorption into Tanjong Pagar GRC in 1991. His early career was defined by anti-colonial activism and the formation of the People's Action Party (PAP) in 1954, which sought to dismantle ..., title: The Late Mr Lee Kuan Yew's Life and Death While in Elected Office: A ..., link: https://batamnewsasia.com/2025/02/25/the-late-mr-lee-kuan-yews-life-and-death-while-in-elected-office-a-much-discussed-and-enduring-political-legacy/\\\"}}, {'type': 'extra_forbidden', 'loc': ('body', 'messages', 1, 'typed-dict', 'prompt'), 'msg': 'Extra inputs are not permitted', 'input': \\\"snippet: Lee Kuan Yew (born September 16, 1923, Singapore\\u2014died March 23, 2015, Singapore) was a politician and lawyer who was prime minister of Singapore from 1959 to 1990. Widely regarded as the founding father of modern Singapore, Lee transformed the city-state from a small, resource-deficient British colony with high rates of illiteracy into the most prosperous country in Southeast Asia., title: Lee Kuan Yew | Biography, Education, Achievements, & Facts - Britannica, link: https://www.britannica.com/biography/Lee-Kuan-Yew, snippet: A Short Biography of Lee Kuan Yew. Lee Kuan Yew was born on September 16, 1923, as the eldest child of Lee Chin Koon. He studied in the top Singapore schools and went to the London School of Economics briefly for his university education before moving to Cambridge, where he obtained his Law degree., title: Lee Kuan Yew: How His Leadership Transformed Singapore, link: https://www.businessandleadership.com/leadership/item/lee-kuan-yew-leadership-transformed-singapore/, snippet: SINGAPORE - On the 10th anniversary of Mr Lee Kuan Yew's death, Prime Minister Lawrence Wong called on Singaporeans to honour the legacy of Singapore's founding father through their actions., title: Honour Lee Kuan Yew's legacy not just in ... - The Straits Times, link: https://www.straitstimes.com/singapore/honour-lee-kuan-yews-legacy-not-just-in-remembrance-but-in-action-pm-wong, snippet: Lee Kuan Yew entered politics in 1955 as a legislator for the Tanjong Pagar Single Member Constituency (SMC), a seat he would hold for 56 years until its absorption into Tanjong Pagar GRC in 1991. His early career was defined by anti-colonial activism and the formation of the People's Action Party (PAP) in 1954, which sought to dismantle ..., title: The Late Mr Lee Kuan Yew's Life and Death While in Elected Office: A ..., link: https://batamnewsasia.com/2025/02/25/the-late-mr-lee-kuan-yews-life-and-death-while-in-elected-office-a-much-discussed-and-enduring-political-legacy/\\\"}, {'type': 'missing', 'loc': ('body', 'messages', 1, 'typed-dict', 'content'), 'msg': 'Field required', 'input': {'role': 'system', 'prompt': \\\"snippet: Lee Kuan Yew (born September 16, 1923, Singapore\\u2014died March 23, 2015, Singapore) was a politician and lawyer who was prime minister of Singapore from 1959 to 1990. Widely regarded as the founding father of modern Singapore, Lee transformed the city-state from a small, resource-deficient British colony with high rates of illiteracy into the most prosperous country in Southeast Asia., title: Lee Kuan Yew | Biography, Education, Achievements, & Facts - Britannica, link: https://www.britannica.com/biography/Lee-Kuan-Yew, snippet: A Short Biography of Lee Kuan Yew. Lee Kuan Yew was born on September 16, 1923, as the eldest child of Lee Chin Koon. He studied in the top Singapore schools and went to the London School of Economics briefly for his university education before moving to Cambridge, where he obtained his Law degree., title: Lee Kuan Yew: How His Leadership Transformed Singapore, link: https://www.businessandleadership.com/leadership/item/lee-kuan-yew-leadership-transformed-singapore/, snippet: SINGAPORE - On the 10th anniversary of Mr Lee Kuan Yew's death, Prime Minister Lawrence Wong called on Singaporeans to honour the legacy of Singapore's founding father through their actions., title: Honour Lee Kuan Yew's legacy not just in ... - The Straits Times, link: https://www.straitstimes.com/singapore/honour-lee-kuan-yews-legacy-not-just-in-remembrance-but-in-action-pm-wong, snippet: Lee Kuan Yew entered politics in 1955 as a legislator for the Tanjong Pagar Single Member Constituency (SMC), a seat he would hold for 56 years until its absorption into Tanjong Pagar GRC in 1991. His early career was defined by anti-colonial activism and the formation of the People's Action Party (PAP) in 1954, which sought to dismantle ..., title: The Late Mr Lee Kuan Yew's Life and Death While in Elected Office: A ..., link: https://batamnewsasia.com/2025/02/25/the-late-mr-lee-kuan-yews-life-and-death-while-in-elected-office-a-much-discussed-and-enduring-political-legacy/\\\"}}, {'type': 'missing', 'loc': ('body', 'messages', 1, 'typed-dict', 'name'), 'msg': 'Field required', 'input': {'role': 'system', 'prompt': \\\"snippet: Lee Kuan Yew (born September 16, 1923, Singapore\\u2014died March 23, 2015, Singapore) was a politician and lawyer who was prime minister of Singapore from 1959 to 1990. Widely regarded as the founding father of modern Singapore, Lee transformed the city-state from a small, resource-deficient British colony with high rates of illiteracy into the most prosperous country in Southeast Asia., title: Lee Kuan Yew | Biography, Education, Achievements, & Facts - Britannica, link: https://www.britannica.com/biography/Lee-Kuan-Yew, snippet: A Short Biography of Lee Kuan Yew. Lee Kuan Yew was born on September 16, 1923, as the eldest child of Lee Chin Koon. He studied in the top Singapore schools and went to the London School of Economics briefly for his university education before moving to Cambridge, where he obtained his Law degree., title: Lee Kuan Yew: How His Leadership Transformed Singapore, link: https://www.businessandleadership.com/leadership/item/lee-kuan-yew-leadership-transformed-singapore/, snippet: SINGAPORE - On the 10th anniversary of Mr Lee Kuan Yew's death, Prime Minister Lawrence Wong called on Singaporeans to honour the legacy of Singapore's founding father through their actions., title: Honour Lee Kuan Yew's legacy not just in ... - The Straits Times, link: https://www.straitstimes.com/singapore/honour-lee-kuan-yews-legacy-not-just-in-remembrance-but-in-action-pm-wong, snippet: Lee Kuan Yew entered politics in 1955 as a legislator for the Tanjong Pagar Single Member Constituency (SMC), a seat he would hold for 56 years until its absorption into Tanjong Pagar GRC in 1991. His early career was defined by anti-colonial activism and the formation of the People's Action Party (PAP) in 1954, which sought to dismantle ..., title: The Late Mr Lee Kuan Yew's Life and Death While in Elected Office: A ..., link: https://batamnewsasia.com/2025/02/25/the-late-mr-lee-kuan-yews-life-and-death-while-in-elected-office-a-much-discussed-and-enduring-political-legacy/\\\"}}, {'type': 'literal_error', 'loc': ('body', 'messages', 1, 'typed-dict', 'role'), 'msg': \\\"Input should be 'function'\\\", 'input': 'system', 'ctx': {'expected': \\\"'function'\\\"}}, {'type': 'extra_forbidden', 'loc': ('body', 'messages', 1, 'typed-dict', 'prompt'), 'msg': 'Extra inputs are not permitted', 'input': \\\"snippet: Lee Kuan Yew (born September 16, 1923, Singapore\\u2014died March 23, 2015, Singapore) was a politician and lawyer who was prime minister of Singapore from 1959 to 1990. Widely regarded as the founding father of modern Singapore, Lee transformed the city-state from a small, resource-deficient British colony with high rates of illiteracy into the most prosperous country in Southeast Asia., title: Lee Kuan Yew | Biography, Education, Achievements, & Facts - Britannica, link: https://www.britannica.com/biography/Lee-Kuan-Yew, snippet: A Short Biography of Lee Kuan Yew. Lee Kuan Yew was born on September 16, 1923, as the eldest child of Lee Chin Koon. He studied in the top Singapore schools and went to the London School of Economics briefly for his university education before moving to Cambridge, where he obtained his Law degree., title: Lee Kuan Yew: How His Leadership Transformed Singapore, link: https://www.businessandleadership.com/leadership/item/lee-kuan-yew-leadership-transformed-singapore/, snippet: SINGAPORE - On the 10th anniversary of Mr Lee Kuan Yew's death, Prime Minister Lawrence Wong called on Singaporeans to honour the legacy of Singapore's founding father through their actions., title: Honour Lee Kuan Yew's legacy not just in ... - The Straits Times, link: https://www.straitstimes.com/singapore/honour-lee-kuan-yews-legacy-not-just-in-remembrance-but-in-action-pm-wong, snippet: Lee Kuan Yew entered politics in 1955 as a legislator for the Tanjong Pagar Single Member Constituency (SMC), a seat he would hold for 56 years until its absorption into Tanjong Pagar GRC in 1991. His early career was defined by anti-colonial activism and the formation of the People's Action Party (PAP) in 1954, which sought to dismantle ..., title: The Late Mr Lee Kuan Yew's Life and Death While in Elected Office: A ..., link: https://batamnewsasia.com/2025/02/25/the-late-mr-lee-kuan-yews-life-and-death-while-in-elected-office-a-much-discussed-and-enduring-political-legacy/\\\"}, {'type': 'extra_forbidden', 'loc': ('body', 'messages', 1, 'typed-dict', 'prompt'), 'msg': 'Extra inputs are not permitted', 'input': \\\"snippet: Lee Kuan Yew (born September 16, 1923, Singapore\\u2014died March 23, 2015, Singapore) was a politician and lawyer who was prime minister of Singapore from 1959 to 1990. Widely regarded as the founding father of modern Singapore, Lee transformed the city-state from a small, resource-deficient British colony with high rates of illiteracy into the most prosperous country in Southeast Asia., title: Lee Kuan Yew | Biography, Education, Achievements, & Facts - Britannica, link: https://www.britannica.com/biography/Lee-Kuan-Yew, snippet: A Short Biography of Lee Kuan Yew. Lee Kuan Yew was born on September 16, 1923, as the eldest child of Lee Chin Koon. He studied in the top Singapore schools and went to the London School of Economics briefly for his university education before moving to Cambridge, where he obtained his Law degree., title: Lee Kuan Yew: How His Leadership Transformed Singapore, link: https://www.businessandleadership.com/leadership/item/lee-kuan-yew-leadership-transformed-singapore/, snippet: SINGAPORE - On the 10th anniversary of Mr Lee Kuan Yew's death, Prime Minister Lawrence Wong called on Singaporeans to honour the legacy of Singapore's founding father through their actions., title: Honour Lee Kuan Yew's legacy not just in ... - The Straits Times, link: https://www.straitstimes.com/singapore/honour-lee-kuan-yews-legacy-not-just-in-remembrance-but-in-action-pm-wong, snippet: Lee Kuan Yew entered politics in 1955 as a legislator for the Tanjong Pagar Single Member Constituency (SMC), a seat he would hold for 56 years until its absorption into Tanjong Pagar GRC in 1991. His early career was defined by anti-colonial activism and the formation of the People's Action Party (PAP) in 1954, which sought to dismantle ..., title: The Late Mr Lee Kuan Yew's Life and Death While in Elected Office: A ..., link: https://batamnewsasia.com/2025/02/25/the-late-mr-lee-kuan-yews-life-and-death-while-in-elected-office-a-much-discussed-and-enduring-political-legacy/\\\"}]\", \"type_\": \"invalid_request_error\"}",
          "traceback": [
            "\u001b[0;31m---------------------------------------------------------------------------\u001b[0m",
            "\u001b[0;31mInvalidRequestError\u001b[0m                       Traceback (most recent call last)",
            "\u001b[0;32m<ipython-input-70-a1034d0a5810>\u001b[0m in \u001b[0;36m<cell line: 0>\u001b[0;34m()\u001b[0m\n\u001b[1;32m      5\u001b[0m \u001b[0mclient\u001b[0m \u001b[0;34m=\u001b[0m \u001b[0mTogether\u001b[0m\u001b[0;34m(\u001b[0m\u001b[0mapi_key\u001b[0m\u001b[0;34m=\u001b[0m\u001b[0;34m\"f43aa597975ad007ba3d1058ec3287743e7982ceab574de53f65adf5b613b900\"\u001b[0m\u001b[0;34m)\u001b[0m\u001b[0;34m\u001b[0m\u001b[0;34m\u001b[0m\u001b[0m\n\u001b[1;32m      6\u001b[0m \u001b[0;34m\u001b[0m\u001b[0m\n\u001b[0;32m----> 7\u001b[0;31m response = client.chat.completions.create(\n\u001b[0m\u001b[1;32m      8\u001b[0m     \u001b[0mmodel\u001b[0m\u001b[0;34m=\u001b[0m\u001b[0;34m\"meta-llama/Llama-Vision-Free\"\u001b[0m\u001b[0;34m,\u001b[0m\u001b[0;34m\u001b[0m\u001b[0;34m\u001b[0m\u001b[0m\n\u001b[1;32m      9\u001b[0m     messages=[\n",
            "\u001b[0;32m/usr/local/lib/python3.11/dist-packages/together/resources/chat/completions.py\u001b[0m in \u001b[0;36mcreate\u001b[0;34m(self, messages, model, max_tokens, stop, temperature, top_p, top_k, repetition_penalty, presence_penalty, frequency_penalty, min_p, logit_bias, seed, stream, logprobs, echo, n, safety_model, response_format, tools, tool_choice, **kwargs)\u001b[0m\n\u001b[1;32m    139\u001b[0m         ).model_dump(exclude_none=True)\n\u001b[1;32m    140\u001b[0m \u001b[0;34m\u001b[0m\u001b[0m\n\u001b[0;32m--> 141\u001b[0;31m         response, _, _ = requestor.request(\n\u001b[0m\u001b[1;32m    142\u001b[0m             options=TogetherRequest(\n\u001b[1;32m    143\u001b[0m                 \u001b[0mmethod\u001b[0m\u001b[0;34m=\u001b[0m\u001b[0;34m\"POST\"\u001b[0m\u001b[0;34m,\u001b[0m\u001b[0;34m\u001b[0m\u001b[0;34m\u001b[0m\u001b[0m\n",
            "\u001b[0;32m/usr/local/lib/python3.11/dist-packages/together/abstract/api_requestor.py\u001b[0m in \u001b[0;36mrequest\u001b[0;34m(self, options, stream, remaining_retries, request_timeout)\u001b[0m\n\u001b[1;32m    247\u001b[0m         )\n\u001b[1;32m    248\u001b[0m \u001b[0;34m\u001b[0m\u001b[0m\n\u001b[0;32m--> 249\u001b[0;31m         \u001b[0mresp\u001b[0m\u001b[0;34m,\u001b[0m \u001b[0mgot_stream\u001b[0m \u001b[0;34m=\u001b[0m \u001b[0mself\u001b[0m\u001b[0;34m.\u001b[0m\u001b[0m_interpret_response\u001b[0m\u001b[0;34m(\u001b[0m\u001b[0mresult\u001b[0m\u001b[0;34m,\u001b[0m \u001b[0mstream\u001b[0m\u001b[0;34m)\u001b[0m\u001b[0;34m\u001b[0m\u001b[0;34m\u001b[0m\u001b[0m\n\u001b[0m\u001b[1;32m    250\u001b[0m         \u001b[0;32mreturn\u001b[0m \u001b[0mresp\u001b[0m\u001b[0;34m,\u001b[0m \u001b[0mgot_stream\u001b[0m\u001b[0;34m,\u001b[0m \u001b[0mself\u001b[0m\u001b[0;34m.\u001b[0m\u001b[0mapi_key\u001b[0m\u001b[0;34m\u001b[0m\u001b[0;34m\u001b[0m\u001b[0m\n\u001b[1;32m    251\u001b[0m \u001b[0;34m\u001b[0m\u001b[0m\n",
            "\u001b[0;32m/usr/local/lib/python3.11/dist-packages/together/abstract/api_requestor.py\u001b[0m in \u001b[0;36m_interpret_response\u001b[0;34m(self, result, stream)\u001b[0m\n\u001b[1;32m    633\u001b[0m                 \u001b[0mcontent\u001b[0m \u001b[0;34m=\u001b[0m \u001b[0mresult\u001b[0m\u001b[0;34m.\u001b[0m\u001b[0mcontent\u001b[0m\u001b[0;34m.\u001b[0m\u001b[0mdecode\u001b[0m\u001b[0;34m(\u001b[0m\u001b[0;34m\"utf-8\"\u001b[0m\u001b[0;34m)\u001b[0m\u001b[0;34m\u001b[0m\u001b[0;34m\u001b[0m\u001b[0m\n\u001b[1;32m    634\u001b[0m             return (\n\u001b[0;32m--> 635\u001b[0;31m                 self._interpret_response_line(\n\u001b[0m\u001b[1;32m    636\u001b[0m                     \u001b[0mcontent\u001b[0m\u001b[0;34m,\u001b[0m\u001b[0;34m\u001b[0m\u001b[0;34m\u001b[0m\u001b[0m\n\u001b[1;32m    637\u001b[0m                     \u001b[0mresult\u001b[0m\u001b[0;34m.\u001b[0m\u001b[0mstatus_code\u001b[0m\u001b[0;34m,\u001b[0m\u001b[0;34m\u001b[0m\u001b[0;34m\u001b[0m\u001b[0m\n",
            "\u001b[0;32m/usr/local/lib/python3.11/dist-packages/together/abstract/api_requestor.py\u001b[0m in \u001b[0;36m_interpret_response_line\u001b[0;34m(self, rbody, rcode, rheaders, stream)\u001b[0m\n\u001b[1;32m    705\u001b[0m         \u001b[0;31m# Handle streaming errors\u001b[0m\u001b[0;34m\u001b[0m\u001b[0;34m\u001b[0m\u001b[0m\n\u001b[1;32m    706\u001b[0m         \u001b[0;32mif\u001b[0m \u001b[0;32mnot\u001b[0m \u001b[0;36m200\u001b[0m \u001b[0;34m<=\u001b[0m \u001b[0mrcode\u001b[0m \u001b[0;34m<\u001b[0m \u001b[0;36m300\u001b[0m\u001b[0;34m:\u001b[0m\u001b[0;34m\u001b[0m\u001b[0;34m\u001b[0m\u001b[0m\n\u001b[0;32m--> 707\u001b[0;31m             \u001b[0;32mraise\u001b[0m \u001b[0mself\u001b[0m\u001b[0;34m.\u001b[0m\u001b[0mhandle_error_response\u001b[0m\u001b[0;34m(\u001b[0m\u001b[0mresp\u001b[0m\u001b[0;34m,\u001b[0m \u001b[0mrcode\u001b[0m\u001b[0;34m,\u001b[0m \u001b[0mstream_error\u001b[0m\u001b[0;34m=\u001b[0m\u001b[0mstream\u001b[0m\u001b[0;34m)\u001b[0m\u001b[0;34m\u001b[0m\u001b[0;34m\u001b[0m\u001b[0m\n\u001b[0m\u001b[1;32m    708\u001b[0m         \u001b[0;32mreturn\u001b[0m \u001b[0mresp\u001b[0m\u001b[0;34m\u001b[0m\u001b[0;34m\u001b[0m\u001b[0m\n\u001b[1;32m    709\u001b[0m \u001b[0;34m\u001b[0m\u001b[0m\n",
            "\u001b[0;31mInvalidRequestError\u001b[0m: Error code: 400 - {\"message\": \"[{'type': 'missing', 'loc': ('body', 'messages', 1, 'typed-dict', 'content'), 'msg': 'Field required', 'input': {'role': 'system', 'prompt': \\\"snippet: Lee Kuan Yew (born September 16, 1923, Singapore\\u2014died March 23, 2015, Singapore) was a politician and lawyer who was prime minister of Singapore from 1959 to 1990. Widely regarded as the founding father of modern Singapore, Lee transformed the city-state from a small, resource-deficient British colony with high rates of illiteracy into the most prosperous country in Southeast Asia., title: Lee Kuan Yew | Biography, Education, Achievements, & Facts - Britannica, link: https://www.britannica.com/biography/Lee-Kuan-Yew, snippet: A Short Biography of Lee Kuan Yew. Lee Kuan Yew was born on September 16, 1923, as the eldest child of Lee Chin Koon. He studied in the top Singapore schools and went to the London School of Economics briefly for his university education before moving to Cambridge, where he obtained his Law degree., title: Lee Kuan Yew: How His Leadership Transformed Singapore, link: https://www.businessandleadership.com/leadership/item/lee-kuan-yew-leadership-transformed-singapore/, snippet: SINGAPORE - On the 10th anniversary of Mr Lee Kuan Yew's death, Prime Minister Lawrence Wong called on Singaporeans to honour the legacy of Singapore's founding father through their actions., title: Honour Lee Kuan Yew's legacy not just in ... - The Straits Times,..."
          ]
        }
      ]
    },
    {
      "cell_type": "code",
      "source": [
        "response"
      ],
      "metadata": {
        "id": "yncl52OXopf6",
        "outputId": "2e0fcc40-fc43-4ada-f969-7c26494ffbb8",
        "colab": {
          "base_uri": "https://localhost:8080/"
        }
      },
      "execution_count": 69,
      "outputs": [
        {
          "output_type": "execute_result",
          "data": {
            "text/plain": [
              "ChatCompletionResponse(id='nrnB5T1-4pPsy7-936efb7a7b0e0bcd', object=<ObjectType.ChatCompletion: 'chat.completion'>, created=1745763854, model='meta-llama/Llama-Vision-Free', choices=[ChatCompletionChoicesData(index=0, logprobs=None, seed=None, finish_reason=<FinishReason.StopSequence: 'stop'>, message=ChatCompletionMessage(role=<MessageRole.ASSISTANT: 'assistant'>, content=\"Lee Kuan Yew was a Singaporean politician and lawyer who served as the first Prime Minister of Singapore from 1959 to 1990. He is widely regarded as the founding father of modern Singapore. Born on September 16, 1923, Lee studied at the London School of Economics and Cambridge University before entering politics in 1955. He was a key figure in the formation of the People's Action Party (PAP) and played a crucial role in Singapore's transition from a British colony to an independent nation.\\n\\nLee's leadership transformed Singapore from a small, resource-deficient colony with high rates of illiteracy into a modern, prosperous country. He implemented a range of policies aimed at promoting economic growth, social stability, and national unity. These policies included the development of a strong economy, a high standard of living, and a comprehensive education system.\\n\\nLee's legacy is still celebrated in Singapore today, and he is remembered as a visionary leader who transformed the country into the prosperous nation it is today. He passed away on March 23, 2015, but his impact on Singapore's development and his legacy continue to be felt.\", tool_calls=[]))], prompt=[], usage=UsageData(prompt_tokens=532, completion_tokens=233, total_tokens=765))"
            ]
          },
          "metadata": {},
          "execution_count": 69
        }
      ]
    },
    {
      "cell_type": "markdown",
      "metadata": {
        "id": "poLGO5mGZmnQ"
      },
      "source": [
        "We set up the Tavily search tool to allow our agent to find information online"
      ]
    },
    {
      "cell_type": "code",
      "execution_count": 42,
      "metadata": {
        "id": "V8ycRySQZmnR",
        "outputId": "93a9fb8b-5940-48f8-ca14-5cede5136e8f",
        "colab": {
          "base_uri": "https://localhost:8080/",
          "height": 358
        }
      },
      "outputs": [
        {
          "output_type": "error",
          "ename": "AttributeError",
          "evalue": "'str' object has no attribute 'input_variables'",
          "traceback": [
            "\u001b[0;31m---------------------------------------------------------------------------\u001b[0m",
            "\u001b[0;31mAttributeError\u001b[0m                            Traceback (most recent call last)",
            "\u001b[0;32m<ipython-input-42-b6075d18f669>\u001b[0m in \u001b[0;36m<cell line: 0>\u001b[0;34m()\u001b[0m\n\u001b[1;32m     27\u001b[0m \u001b[0;31m# we will pass it directly to the agent_executor.invoke() method.\u001b[0m\u001b[0;34m\u001b[0m\u001b[0;34m\u001b[0m\u001b[0m\n\u001b[1;32m     28\u001b[0m \u001b[0mprompt\u001b[0m \u001b[0;34m=\u001b[0m \u001b[0;34m\"what is GRAB's latest stock price?\"\u001b[0m\u001b[0;34m\u001b[0m\u001b[0;34m\u001b[0m\u001b[0m\n\u001b[0;32m---> 29\u001b[0;31m \u001b[0magent\u001b[0m \u001b[0;34m=\u001b[0m \u001b[0mcreate_react_agent\u001b[0m\u001b[0;34m(\u001b[0m\u001b[0mllm\u001b[0m\u001b[0;34m,\u001b[0m \u001b[0mtools\u001b[0m\u001b[0;34m,\u001b[0m \u001b[0mprompt\u001b[0m\u001b[0;34m=\u001b[0m\u001b[0mprompt\u001b[0m\u001b[0;34m)\u001b[0m\u001b[0;34m\u001b[0m\u001b[0;34m\u001b[0m\u001b[0m\n\u001b[0m\u001b[1;32m     30\u001b[0m \"\"\"\n\u001b[1;32m     31\u001b[0m \u001b[0;34m\u001b[0m\u001b[0m\n",
            "\u001b[0;32m/usr/local/lib/python3.11/dist-packages/langchain/agents/react/agent.py\u001b[0m in \u001b[0;36mcreate_react_agent\u001b[0;34m(llm, tools, prompt, output_parser, tools_renderer, stop_sequence)\u001b[0m\n\u001b[1;32m    119\u001b[0m     \"\"\"  # noqa: E501\n\u001b[1;32m    120\u001b[0m     missing_vars = {\"tools\", \"tool_names\", \"agent_scratchpad\"}.difference(\n\u001b[0;32m--> 121\u001b[0;31m         \u001b[0mprompt\u001b[0m\u001b[0;34m.\u001b[0m\u001b[0minput_variables\u001b[0m \u001b[0;34m+\u001b[0m \u001b[0mlist\u001b[0m\u001b[0;34m(\u001b[0m\u001b[0mprompt\u001b[0m\u001b[0;34m.\u001b[0m\u001b[0mpartial_variables\u001b[0m\u001b[0;34m)\u001b[0m\u001b[0;34m\u001b[0m\u001b[0;34m\u001b[0m\u001b[0m\n\u001b[0m\u001b[1;32m    122\u001b[0m     )\n\u001b[1;32m    123\u001b[0m     \u001b[0;32mif\u001b[0m \u001b[0mmissing_vars\u001b[0m\u001b[0;34m:\u001b[0m\u001b[0;34m\u001b[0m\u001b[0;34m\u001b[0m\u001b[0m\n",
            "\u001b[0;31mAttributeError\u001b[0m: 'str' object has no attribute 'input_variables'"
          ]
        }
      ],
      "source": [
        "from langchain_community.tools import DuckDuckGoSearchRun\n",
        "from langchain.tools import Tool\n",
        "from langchain_together import ChatTogether\n",
        "from langchain.memory import ConversationBufferMemory\n",
        "from langchain.agents import Tool, AgentExecutor, create_react_agent\n",
        "from langchain.prompts import PromptTemplate\n",
        "\n",
        "# from langgraph.prebuilt import create_react_agent\n",
        "\n",
        "llm = ChatTogether(\n",
        "    model=\"meta-llama/Llama-Vision-Free\",\n",
        "    api_key=\"f43aa597975ad007ba3d1058ec3287743e7982ceab574de53f65adf5b613b900\",\n",
        "    verbose=True\n",
        ")\n",
        "\n",
        "duckduckgo_search_tool = DuckDuckGoSearchRun()\n",
        "tools = [\n",
        "    Tool(\n",
        "        name=\"duckduckgo_search\",\n",
        "        func=duckduckgo_search_tool.run,\n",
        "        description=\"A simple search tool to find information on the internet using DuckDuckGo. Use this when you need to answer questions about current events, facts, or anything requiring external knowledge. Input should be a search query string.\"\n",
        "    )\n",
        "]\n",
        "\n",
        "\n",
        "# Instead of setting a prompt here, which was causing the issue,\n",
        "# we will pass it directly to the agent_executor.invoke() method.\n",
        "prompt = \"what is GRAB's latest stock price?\"\n",
        "agent = create_react_agent(llm, tools, prompt=prompt)\n",
        "\"\"\"\n",
        "\n",
        "agent_executor = AgentExecutor.from_agent_and_tools(\n",
        "    agent=agent,\n",
        "    tools=tools,\n",
        "    verbose=True,\n",
        "    memory=ConversationBufferMemory(memory_key=\"chat_history\")\n",
        ")\n",
        "\"\"\"\n",
        "\n",
        "# Pass the prompt as input to the invoke method.\n",
        "result = agent.invoke({\"input\": \"search the GRAB latest stock price\"})\n",
        "response = result['messages'][0].content\n",
        "response"
      ]
    },
    {
      "cell_type": "code",
      "source": [],
      "metadata": {
        "id": "dNvTmI9Qb4zT"
      },
      "execution_count": 26,
      "outputs": []
    },
    {
      "cell_type": "markdown",
      "metadata": {
        "id": "-BolB30zZmnR"
      },
      "source": [
        "## Setup a ReAct Agent\n",
        "\n",
        "We create a ReAct agent that can use tools and reason about their outputs"
      ]
    },
    {
      "cell_type": "code",
      "execution_count": 18,
      "metadata": {
        "id": "_Zgpu_DYZmnR",
        "outputId": "77c428bb-dfad-448b-d1d5-b76b22a8dc12",
        "colab": {
          "base_uri": "https://localhost:8080/",
          "height": 266
        }
      },
      "outputs": [
        {
          "output_type": "execute_result",
          "data": {
            "text/plain": [
              "<langgraph.graph.state.CompiledStateGraph object at 0x79f77dc6fc10>"
            ],
            "image/png": "[encoded data removed]"
          },
          "metadata": {},
          "execution_count": 18
        }
      ],
      "source": [
        "from langgraph.prebuilt import create_react_agent\n",
        "\n",
        "# Choose the LLM that will drive the agent\n",
        "prompt = \"what is the capital of france\"\n",
        "agent = create_react_agent(llm, tools, prompt=prompt)\n",
        "agent"
      ]
    },
    {
      "cell_type": "code",
      "source": [
        "result = agent.invoke({})\n",
        "result"
      ],
      "metadata": {
        "id": "pJRyBnO2aOsI",
        "outputId": "b2ebc94f-7494-432e-9214-c3a43826a0c3",
        "colab": {
          "base_uri": "https://localhost:8080/"
        }
      },
      "execution_count": 20,
      "outputs": [
        {
          "output_type": "execute_result",
          "data": {
            "text/plain": [
              "{'messages': [AIMessage(content='The capital of France is Paris.', additional_kwargs={'refusal': None}, response_metadata={'token_usage': {'completion_tokens': 8, 'prompt_tokens': 18, 'total_tokens': 26, 'completion_tokens_details': None, 'prompt_tokens_details': None}, 'model_name': 'meta-llama/Llama-Vision-Free', 'system_fingerprint': None, 'id': 'nrmsXEx-57nCBj-936ea7daab02eaf3', 'finish_reason': 'stop', 'logprobs': None}, id='run-6588d0bc-c618-43d7-8f33-925d53dfc3e6-0', usage_metadata={'input_tokens': 18, 'output_tokens': 8, 'total_tokens': 26, 'input_token_details': {}, 'output_token_details': {}})]}"
            ]
          },
          "metadata": {},
          "execution_count": 20
        }
      ]
    },
    {
      "cell_type": "code",
      "source": [
        "result['messages'][0].content"
      ],
      "metadata": {
        "id": "qHjzXxiFbjNF",
        "outputId": "12219b10-2a6f-4d42-c368-5e285cfd3a25",
        "colab": {
          "base_uri": "https://localhost:8080/",
          "height": 35
        }
      },
      "execution_count": 24,
      "outputs": [
        {
          "output_type": "execute_result",
          "data": {
            "text/plain": [
              "'The capital of France is Paris.'"
            ],
            "application/vnd.google.colaboratory.intrinsic+json": {
              "type": "string"
            }
          },
          "metadata": {},
          "execution_count": 24
        }
      ]
    },
    {
      "cell_type": "markdown",
      "metadata": {
        "id": "Yfxeze-kZmnR"
      },
      "source": [
        "## Defining the Planning Structure\n",
        "\n",
        "We create type definitions to manage the planning state"
      ]
    },
    {
      "cell_type": "code",
      "execution_count": null,
      "metadata": {
        "id": "cH6OiAdxZmnR"
      },
      "outputs": [],
      "source": [
        "import operator\n",
        "from typing import Annotated, List, Tuple\n",
        "from typing_extensions import TypedDict\n",
        "\n",
        "# Define types for the planning system\n",
        "class PlanExecute(TypedDict):\n",
        "    input: str\n",
        "    plan: List[str]\n",
        "    past_steps: Annotated[List[Tuple], operator.add]\n",
        "    response: str"
      ]
    },
    {
      "cell_type": "code",
      "execution_count": null,
      "metadata": {
        "id": "VemRE3XDZmnR"
      },
      "outputs": [],
      "source": [
        "from pydantic import BaseModel, Field\n",
        "\n",
        "\n",
        "class Plan(BaseModel):\n",
        "    \"\"\"Plan to follow in future\"\"\"\n",
        "\n",
        "    steps: List[str] = Field(\n",
        "        description=\"different steps to follow, should be in sorted order\"\n",
        "    )"
      ]
    },
    {
      "cell_type": "markdown",
      "metadata": {
        "id": "o7Ny60fqZmnR"
      },
      "source": [
        "## Setting up the Planner\n",
        "\n",
        "The planner is responsible for breaking down complex queries into steps"
      ]
    },
    {
      "cell_type": "code",
      "execution_count": null,
      "metadata": {
        "id": "TeRE8XLBZmnS"
      },
      "outputs": [],
      "source": [
        "# Set up the planner\n",
        "from langchain_core.prompts import ChatPromptTemplate\n",
        "\n",
        "planner_prompt = ChatPromptTemplate.from_messages(\n",
        "    [\n",
        "        (\n",
        "            \"system\",\n",
        "            \"\"\"For the given objective, come up with a simple step by step plan. \\\n",
        "This plan should involve individual tasks, that if executed correctly will yield the correct answer. Do not add any superfluous steps. \\\n",
        "The result of the final step should be the final answer. Make sure that each step has all the information needed - do not skip steps.\"\"\",\n",
        "        ),\n",
        "        (\"placeholder\", \"{messages}\"),\n",
        "    ]\n",
        ")\n",
        "\n",
        "planner = planner_prompt | ChatTogether(model=\"meta-llama/Llama-3.3-70B-Instruct-Turbo\").with_structured_output(Plan)"
      ]
    },
    {
      "cell_type": "code",
      "execution_count": null,
      "metadata": {
        "id": "9VSWy22cZmnS"
      },
      "outputs": [],
      "source": [
        "final_state = planner.invoke(\n",
        "    {\n",
        "        \"messages\": [\n",
        "            (\"user\", \"what is the hometown of the current Australia open winner?\")\n",
        "        ]\n",
        "    }\n",
        ")"
      ]
    },
    {
      "cell_type": "code",
      "execution_count": null,
      "metadata": {
        "id": "7upFrIdkZmnS",
        "outputId": "920672a9-e168-4365-c5b2-cb7a25de1d3b"
      },
      "outputs": [
        {
          "data": {
            "text/plain": [
              "Plan(steps=[\"Find the current year's Australia Open winner\", 'Find the hometown of the winner'])"
            ]
          },
          "execution_count": 9,
          "metadata": {},
          "output_type": "execute_result"
        }
      ],
      "source": [
        "final_state"
      ]
    },
    {
      "cell_type": "markdown",
      "metadata": {
        "id": "NkrxomgOZmnS"
      },
      "source": [
        "## Defining Core Functions\n",
        "\n",
        "Three main functions drive the planning process:\n",
        "\n",
        "1. `execute_step`: Executes a single step of the plan using the agent\n",
        "2. `plan_step`: Creates the initial plan from the user's query\n",
        "3. `replan_step`: Revises the plan based on execution results"
      ]
    },
    {
      "cell_type": "code",
      "execution_count": null,
      "metadata": {
        "id": "EhVjjAGwZmnS"
      },
      "outputs": [],
      "source": [
        "from typing import Union\n",
        "\n",
        "\n",
        "class Response(BaseModel):\n",
        "    \"\"\"Response to user.\"\"\"\n",
        "\n",
        "    response: str\n",
        "\n",
        "\n",
        "class Act(BaseModel):\n",
        "    \"\"\"Action to perform.\"\"\"\n",
        "\n",
        "    action: Union[Response, Plan] = Field(\n",
        "        description=\"Action to perform. If you want to respond to user, use Response. \"\n",
        "        \"If you need to further use tools to get the answer, use Plan.\"\n",
        "    )\n",
        "\n",
        "\n",
        "replanner_prompt = ChatPromptTemplate.from_template(\n",
        "    \"\"\"For the given objective, come up with a simple step by step plan. \\\n",
        "This plan should involve individual tasks, that if executed correctly will yield the correct answer. Do not add any superfluous steps. \\\n",
        "The result of the final step should be the final answer. Make sure that each step has all the information needed - do not skip steps.\n",
        "\n",
        "Your objective was this:\n",
        "{input}\n",
        "\n",
        "Your original plan was this:\n",
        "{plan}\n",
        "\n",
        "You have currently done the follow steps:\n",
        "{past_steps}\n",
        "\n",
        "Update your plan accordingly. If no more steps are needed and you can return to the user, then respond with that. Otherwise, fill out the plan. Only add steps to the plan that still NEED to be done. Do not return previously done steps as part of the plan.\"\"\"\n",
        ")\n",
        "\n",
        "\n",
        "replanner = replanner_prompt | ChatTogether(model=\"meta-llama/Llama-3.3-70B-Instruct-Turbo\", temperature=0).with_structured_output(Act)"
      ]
    },
    {
      "cell_type": "code",
      "execution_count": null,
      "metadata": {
        "id": "kOY0F1GmZmnS"
      },
      "outputs": [],
      "source": [
        "from typing import Literal\n",
        "from langgraph.graph import END\n",
        "\n",
        "\n",
        "async def execute_step(state: PlanExecute):\n",
        "    plan = state[\"plan\"]\n",
        "    plan_str = \"\\n\".join(f\"{i+1}. {step}\" for i, step in enumerate(plan))\n",
        "    task = plan[0]\n",
        "    task_formatted = f\"\"\"For the following plan:\n",
        "{plan_str}\\n\\nYou are tasked with executing step {1}, {task}.\"\"\"\n",
        "    agent_response = await agent_executor.ainvoke(\n",
        "        {\"messages\": [(\"user\", task_formatted)]}\n",
        "    )\n",
        "    return {\n",
        "        \"past_steps\": [(task, agent_response[\"messages\"][-1].content)],\n",
        "    }\n",
        "\n",
        "\n",
        "async def plan_step(state: PlanExecute):\n",
        "    plan = await planner.ainvoke({\"messages\": [(\"user\", state[\"input\"])]})\n",
        "    return {\"plan\": plan.steps}\n",
        "\n",
        "\n",
        "async def replan_step(state: PlanExecute):\n",
        "    output = await replanner.ainvoke(state)\n",
        "    if isinstance(output.action, Response):\n",
        "        return {\"response\": output.action.response}\n",
        "    else:\n",
        "        return {\"plan\": output.action.steps}\n",
        "\n",
        "\n",
        "def should_end(state: PlanExecute):\n",
        "    if \"response\" in state and state[\"response\"]:\n",
        "        return END\n",
        "    else:\n",
        "        return \"agent\""
      ]
    },
    {
      "cell_type": "markdown",
      "metadata": {
        "id": "_VdiqLFsZmnT"
      },
      "source": [
        "## Building the Workflow Graph\n",
        "\n",
        "We create a directed graph that coordinates the planning and execution"
      ]
    },
    {
      "cell_type": "code",
      "execution_count": null,
      "metadata": {
        "id": "BldZiCEBZmnT"
      },
      "outputs": [],
      "source": [
        "from langgraph.graph import StateGraph, START\n",
        "\n",
        "workflow = StateGraph(PlanExecute)\n",
        "\n",
        "# Add the plan node\n",
        "workflow.add_node(\"planner\", plan_step)\n",
        "\n",
        "# Add the execution step\n",
        "workflow.add_node(\"agent\", execute_step)\n",
        "\n",
        "# Add a replan node\n",
        "workflow.add_node(\"replan\", replan_step)\n",
        "\n",
        "workflow.add_edge(START, \"planner\")\n",
        "\n",
        "# From plan we go to agent\n",
        "workflow.add_edge(\"planner\", \"agent\")\n",
        "\n",
        "# From agent, we replan\n",
        "workflow.add_edge(\"agent\", \"replan\")\n",
        "\n",
        "workflow.add_conditional_edges(\n",
        "    \"replan\",\n",
        "    # Next, we pass in the function that will determine which node is called next.\n",
        "    should_end,\n",
        "    [\"agent\", END],\n",
        ")\n",
        "\n",
        "# Finally, we compile it!\n",
        "# This compiles it into a LangChain Runnable,\n",
        "# meaning you can use it as you would any other runnable\n",
        "app = workflow.compile()"
      ]
    },
    {
      "cell_type": "code",
      "execution_count": null,
      "metadata": {
        "id": "Az34lWbxZmnT",
        "outputId": "2189c44f-8449-4e82-b050-6b97a854aab6"
      },
      "outputs": [
        {
          "data": {
            "image/png": "[encoded data removed]",
            "text/plain": [
              "<IPython.core.display.Image object>"
            ]
          },
          "metadata": {},
          "output_type": "display_data"
        }
      ],
      "source": [
        "from IPython.display import Image, display\n",
        "\n",
        "display(Image(app.get_graph(xray=True).draw_mermaid_png()))"
      ]
    },
    {
      "cell_type": "markdown",
      "metadata": {
        "id": "Zm0nj4uWZmnT"
      },
      "source": [
        "## Example Usage\n",
        "\n",
        "Let's see how the agent handles a real query!"
      ]
    },
    {
      "cell_type": "code",
      "execution_count": null,
      "metadata": {
        "id": "zRgjarr9ZmnT",
        "outputId": "0f5b1795-1714-4963-b59d-045fb7263b55"
      },
      "outputs": [
        {
          "name": "stdout",
          "output_type": "stream",
          "text": [
            "{'plan': [\"Find the winner of the men's 2024 Australia Open\", 'Determine the hometown of the winner']}\n",
            "{'past_steps': [(\"Find the winner of the men's 2024 Australia Open\", \"The winner of the men's 2024 Australia Open is Jannik Sinner. \\n\\nSource: \\nhttps://ausopen.com/articles/news/sinner-winner-italian-takes-first-major-ao-2024 \\nhttps://www.youtube.com/watch?v=qvY9Jl7CI7U\\nhttps://en.wikipedia.org/wiki/2024_Australian_Open \\n\\nPlease let me know when to proceed with the next step to determine the hometown of the winner.\")]}\n",
            "{'plan': ['Determine the hometown of Jannik Sinner']}\n",
            "{'past_steps': [('Determine the hometown of Jannik Sinner', \"Jannik Sinner's hometown is Sexten in the Dolomites, Northern Italy.\")]}\n",
            "{'plan': []}\n",
            "Error: list index out of range. The plan list is empty or index is out of range.\n",
            "Execution terminated.\n"
          ]
        }
      ],
      "source": [
        "config = {\"recursion_limit\": 25}\n",
        "inputs = {\"input\": \"what is the hometown of the mens 2024 Australia open winner?\"}\n",
        "try:\n",
        "    async for event in app.astream(inputs, config=config):\n",
        "        for k, v in event.items():\n",
        "            if k != \"__end__\":\n",
        "                print(v)\n",
        "except IndexError as e:\n",
        "    print(f\"Error: {e}. The plan list is empty or index is out of range.\")\n",
        "    print(\"Execution terminated.\")\n",
        "except Exception as e:\n",
        "    print(f\"An error occurred: {e}\")\n",
        "    print(\"Execution terminated.\")"
      ]
    },
    {
      "cell_type": "markdown",
      "metadata": {
        "id": "Rtrz85U6ZmnT"
      },
      "source": [
        "This demonstrates how complex queries can be broken down and executed systematically, with the agent adapting its plan as new information becomes available.\n",
        "\n",
        "## Visual Workflow\n",
        "The graph visualization shows how information flows through the system:\n",
        "- Start → Planner: Creates initial plan\n",
        "- Planner → Agent: Executes steps\n",
        "- Agent → Replan: Updates plan based on new information\n",
        "- Replan → Either back to Agent or to End\n",
        "\n",
        "This creates a flexible system that can handle complex, multi-step queries while maintaining context and adapting to new information."
      ]
    }
  ],
  "metadata": {
    "kernelspec": {
      "display_name": "Python 3",
      "language": "python",
      "name": "python3"
    },
    "language_info": {
      "codemirror_mode": {
        "name": "ipython",
        "version": 3
      },
      "file_extension": ".py",
      "mimetype": "text/x-python",
      "name": "python",
      "nbconvert_exporter": "python",
      "pygments_lexer": "ipython3",
      "version": "3.11.11"
    },
    "colab": {
      "provenance": []
    }
  },
  "nbformat": 4,
  "nbformat_minor": 0
}